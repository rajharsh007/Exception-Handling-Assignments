{
 "cells": [
  {
   "cell_type": "markdown",
   "id": "bf0b96bc-fb4d-49cc-81c1-a56f8bff580d",
   "metadata": {},
   "source": [
    "#### Q1. Explain why we have to use the Exception class while creating a Custom Exception. Note: Here Exception class refers to the base class for all the exceptions."
   ]
  },
  {
   "cell_type": "markdown",
   "id": "0e9ee510-0f71-42ec-ba71-bfd79b508354",
   "metadata": {},
   "source": [
    "#### Ans:- Using the Exception class as the base for custom exceptions provides several benefits:\n",
    "\n",
    "#### Inherits Standard Behavior: By inheriting from the Exception class, your custom exception will inherit the standard behavior and attributes of exceptions. This includes attributes like args (arguments passed to the exception's constructor) and methods like __str__() to generate string representations of the exception.\n",
    "\n",
    "#### Consistency: When you use the Exception class as the base, your custom exceptions will follow the same structure and behavior as built-in exceptions. This consistency makes it easier for other developers to understand and work with your code.\n",
    "\n",
    "#### Ease of Identification: Using the Exception class as the base makes it clear that your class is intended to be used as an exception. This can help prevent naming conflicts and make your code more self-documenting.\n",
    "\n",
    "#### Compatibility: By following the established conventions, your custom exceptions will be compatible with existing exception handling mechanisms in Python, like try and except blocks.\n",
    "\n",
    "#### Future Compatibility: Python's exception handling and standard behavior may evolve over time. By inheriting from the Exception class, your custom exceptions will automatically benefit from any improvements or changes made to the base exception class."
   ]
  },
  {
   "cell_type": "code",
   "execution_count": 1,
   "id": "9f89bdd2-43f1-407b-aee9-a9bd124390c8",
   "metadata": {},
   "outputs": [
    {
     "name": "stdin",
     "output_type": "stream",
     "text": [
      "Enter a number:  10\n"
     ]
    },
    {
     "name": "stdout",
     "output_type": "stream",
     "text": [
      "Value is: 10\n"
     ]
    }
   ],
   "source": [
    "class MyCustomException(Exception):\n",
    "    \"\"\"Custom exception class.\"\"\"\n",
    "    def __init__(self, message):\n",
    "        self.message = message\n",
    "        super().__init__(self.message)\n",
    "\n",
    "def custom_function(value):\n",
    "    if value < 0:\n",
    "        raise MyCustomException(\"Value cannot be negative.\")\n",
    "\n",
    "try:\n",
    "    user_input = int(input(\"Enter a number: \"))\n",
    "    custom_function(user_input)\n",
    "    print(\"Value is:\", user_input)\n",
    "except MyCustomException as mce:\n",
    "    print(\"Custom Exception:\", mce)\n",
    "except ValueError:\n",
    "    print(\"Invalid input. Please enter a valid number.\")\n"
   ]
  },
  {
   "cell_type": "markdown",
   "id": "a475621a-c04a-4653-8051-dfd2af4b6b26",
   "metadata": {},
   "source": [
    "#### Q2. Write a python program to print Python Exception Hierarchy. "
   ]
  },
  {
   "cell_type": "code",
   "execution_count": 6,
   "id": "678e7c2b-b679-4740-9189-867f8323bc86",
   "metadata": {},
   "outputs": [
    {
     "ename": "IndentationError",
     "evalue": "unexpected indent (4099430991.py, line 2)",
     "output_type": "error",
     "traceback": [
      "\u001b[0;36m  Cell \u001b[0;32mIn[6], line 2\u001b[0;36m\u001b[0m\n\u001b[0;31m    def print_exception_hierarchy(exception_class, indent=0):\u001b[0m\n\u001b[0m    ^\u001b[0m\n\u001b[0;31mIndentationError\u001b[0m\u001b[0;31m:\u001b[0m unexpected indent\n"
     ]
    }
   ],
   "source": [
    "# Ans:-\n",
    "    def print_exception_hierarchy(exception_class, indent=0):\n",
    "    print(' ' * indent + exception_class.__name__)\n",
    "    if exception_class.__bases__:\n",
    "        for base_class in exception_class.__bases__:\n",
    "            print_exception_hierarchy(base_class, indent + 4)\n",
    "\n",
    "print_exception_hierarchy(BaseException)\n"
   ]
  },
  {
   "cell_type": "markdown",
   "id": "90a59ce8-364f-4e0c-b91d-73a957ddc0f4",
   "metadata": {},
   "source": [
    "#### Q3. What errors are defined in the ArithmeticError class? Explain any two with an example. "
   ]
  },
  {
   "cell_type": "markdown",
   "id": "3c1a39d8-b076-4522-bda9-9bbca3ee62fc",
   "metadata": {},
   "source": [
    "#### Ans:- ZeroDivisionError:\n",
    "#### This exception is raised when a division or modulo operation is performed with a divisor of zero."
   ]
  },
  {
   "cell_type": "code",
   "execution_count": 7,
   "id": "6a66a894-b2f5-4406-bac0-077a2ebab3eb",
   "metadata": {},
   "outputs": [
    {
     "name": "stdout",
     "output_type": "stream",
     "text": [
      "Error: Division by zero.\n"
     ]
    }
   ],
   "source": [
    "try:\n",
    "    result = 10 / 0\n",
    "except ZeroDivisionError:\n",
    "    print(\"Error: Division by zero.\")\n"
   ]
  },
  {
   "cell_type": "markdown",
   "id": "9cd79915-3fb5-4387-af9e-ac2496454d44",
   "metadata": {},
   "source": [
    "#### OverflowError:\n",
    "#### This exception occurs when an arithmetic operation exceeds the limits of the data type used."
   ]
  },
  {
   "cell_type": "code",
   "execution_count": 9,
   "id": "ec11acf3-8cb3-4147-8d99-28e65d20dd6a",
   "metadata": {},
   "outputs": [],
   "source": [
    "import sys\n",
    "\n",
    "try:\n",
    "    x = sys.maxsize\n",
    "    y = x + 1\n",
    "except OverflowError:\n",
    "    print(\"Error: Integer overflow.\")\n"
   ]
  },
  {
   "cell_type": "markdown",
   "id": "0b586979-bbcc-4f5a-aa47-75f31977e0ce",
   "metadata": {},
   "source": [
    "#### Q4. Why LookupError class is used? Explain with an example KeyError and IndexError. "
   ]
  },
  {
   "cell_type": "markdown",
   "id": "bd5c2f3f-11b9-4462-846c-7a9215ac1f22",
   "metadata": {},
   "source": [
    "#### Ans:- The LookupError class in Python is a base class for exceptions that occur when an index or key lookup fails. It serves as a parent class for several specific lookup-related exception classes. Here are two exceptions that are defined within the LookupError class along with explanations and examples:\n",
    "\n",
    "#### KeyError:\n",
    "#### This exception is raised when a dictionary is accessed with a key that doesn't exist."
   ]
  },
  {
   "cell_type": "code",
   "execution_count": 10,
   "id": "55a87773-051b-4444-9e2f-e6d8439a2368",
   "metadata": {},
   "outputs": [
    {
     "name": "stdout",
     "output_type": "stream",
     "text": [
      "Error: Key not found.\n"
     ]
    }
   ],
   "source": [
    "my_dict = {'a': 1, 'b': 2}\n",
    "\n",
    "try:\n",
    "    value = my_dict['c']\n",
    "except KeyError:\n",
    "    print(\"Error: Key not found.\")\n"
   ]
  },
  {
   "cell_type": "markdown",
   "id": "aad6ed25-5196-4472-ad1f-362fb732d364",
   "metadata": {},
   "source": [
    "#### IndexError:\n",
    "#### This exception is raised when an index used for list, tuple, or string indexing is out of range."
   ]
  },
  {
   "cell_type": "code",
   "execution_count": 11,
   "id": "df665cd5-e835-4284-9fe0-0f3b1b634d55",
   "metadata": {},
   "outputs": [
    {
     "name": "stdout",
     "output_type": "stream",
     "text": [
      "Error: Index out of range.\n"
     ]
    }
   ],
   "source": [
    "my_list = [1, 2, 3]\n",
    "\n",
    "try:\n",
    "    value = my_list[5]\n",
    "except IndexError:\n",
    "    print(\"Error: Index out of range.\")\n"
   ]
  },
  {
   "cell_type": "markdown",
   "id": "4e44ede3-f626-4c8d-a3aa-31aef7e2d237",
   "metadata": {},
   "source": [
    "#### Q5. Explain ImportError. What is ModuleNotFoundError? "
   ]
  },
  {
   "cell_type": "markdown",
   "id": "fc9b2cb2-7008-477e-aa59-8b5be5ebeb85",
   "metadata": {},
   "source": [
    "#### Ans:- ImportError is a built-in exception in Python that is raised when an import statement fails to import a module or attribute. This can happen for various reasons, such as if the module or attribute doesn't exist, if there are issues with the module's content, or if there are problems with the import path.\n",
    "\n",
    "#### In simpler terms, an ImportError occurs when Python cannot find or load the module or attribute you're trying to import.\n",
    "\n",
    "#### Example of ImportError:"
   ]
  },
  {
   "cell_type": "code",
   "execution_count": 12,
   "id": "054c4869-4f63-4aca-aac9-5aaaec653c0b",
   "metadata": {},
   "outputs": [
    {
     "name": "stdout",
     "output_type": "stream",
     "text": [
      "Error: Module not found.\n"
     ]
    }
   ],
   "source": [
    "try:\n",
    "    import non_existent_module\n",
    "except ImportError:\n",
    "    print(\"Error: Module not found.\")\n"
   ]
  },
  {
   "cell_type": "markdown",
   "id": "10490afc-aa54-449b-aedf-c25f8e1b790b",
   "metadata": {},
   "source": [
    "#### A more specific exception called ModuleNotFoundError was introduced. It is a subclass of ImportError and is raised when the specified module is not found.\n",
    "\n",
    "#### Example of ModuleNotFoundError:"
   ]
  },
  {
   "cell_type": "code",
   "execution_count": 13,
   "id": "0f01094a-7a4e-483b-b324-0e0a47dc3970",
   "metadata": {},
   "outputs": [
    {
     "name": "stdout",
     "output_type": "stream",
     "text": [
      "Error: Module not found.\n"
     ]
    }
   ],
   "source": [
    "try:\n",
    "    import non_existent_module\n",
    "except ModuleNotFoundError:\n",
    "    print(\"Error: Module not found.\")\n"
   ]
  },
  {
   "cell_type": "markdown",
   "id": "7cea287c-79ee-4844-b0a6-2bd9a83b6889",
   "metadata": {},
   "source": [
    "#### Q6. List down some best practices for exception handling in python. "
   ]
  },
  {
   "cell_type": "markdown",
   "id": "4eafe6a1-3b55-4276-a2a2-b9ad9fc43271",
   "metadata": {},
   "source": [
    "#### Ans:-\n",
    "#### 1. Be Specific with Exception Types:\n",
    "#### Catch only the exceptions you can handle and avoid using bare except statements. Use specific exception types or custom exceptions when possible. This helps you accurately identify the issue and handle it appropriately.\n",
    "\n",
    "#### 2. Use try-except Blocks Sparingly:\n",
    "#### Don't overuse try-except blocks. They can mask errors and make debugging difficult. Only catch exceptions that you can reasonably handle.\n",
    "\n",
    "#### 3. Keep Exception Messages Informative:\n",
    "#### When raising exceptions or printing exception messages, make sure the messages provide meaningful information about the issue. This helps in identifying and addressing the problem.\n",
    "\n",
    "#### Use finally for Cleanup:\n",
    "#### Use the finally block to ensure that cleanup code (e.g., closing files or releasing resources) is executed regardless of whether an exception occurred or not.\n",
    "\n",
    "#### Avoid Overly Broad Exception Handling:\n",
    "#### Avoid catching exceptions that you can't handle effectively. For instance, avoid catching the base Exception class, as it can catch unexpected errors.\n",
    "\n",
    "#### Use Custom Exceptions:\n",
    "#### Create custom exception classes for your application-specific errors. This enhances code readability and allows you to handle distinct errors separately.\n",
    "\n",
    "#### Handle Exceptions Close to the Source:\n",
    "#### Handle exceptions as close to the source as possible, where you have the most context about the issue. Avoid catching exceptions too far from the origin.\n",
    "\n",
    "#### Avoid Using Exception Flow for Regular Control Flow:\n",
    "#### Don't use exceptions as a part of regular program control flow. Exceptions are meant for exceptional situations, not for expected logic paths.\n",
    "\n",
    "#### Log Exceptions:\n",
    "#### Use logging to record exceptions along with relevant information. This aids in diagnosing issues in production environments.\n",
    "\n",
    "#### Keep the try Block Minimal:\n",
    "#### Keep the try block as minimal as possible. Only include the specific code that might raise exceptions.\n",
    "\n",
    "#### Use Multiple except Blocks:\n",
    "#### Use multiple except blocks to handle different exceptions separately. This improves the precision of error handling.\n",
    "\n",
    "#### Avoid Silent Failures:\n",
    "#### Avoid situations where exceptions are caught but not reported or logged. This can lead to silent failures that are hard to diagnose.\n",
    "\n",
    "#### Use Context Managers (with Statements):\n",
    "#### For resource management, use context managers (with statements) for file handling, database connections, etc. They handle cleanup automatically.\n",
    "\n",
    "#### Test Exception Scenarios:\n",
    "#### Test your code with inputs that can trigger exceptions. This helps ensure that your exception handling works as expected.\n",
    "\n",
    "#### Read Documentation:\n",
    "#### Familiarize yourself with the built-in exceptions in Python and their specific use cases. This helps in selecting appropriate exceptions for different scenarios."
   ]
  },
  {
   "cell_type": "code",
   "execution_count": null,
   "id": "7b3498fd-1d35-4443-a8b8-453a5650da6f",
   "metadata": {},
   "outputs": [],
   "source": []
  }
 ],
 "metadata": {
  "kernelspec": {
   "display_name": "Python 3 (ipykernel)",
   "language": "python",
   "name": "python3"
  },
  "language_info": {
   "codemirror_mode": {
    "name": "ipython",
    "version": 3
   },
   "file_extension": ".py",
   "mimetype": "text/x-python",
   "name": "python",
   "nbconvert_exporter": "python",
   "pygments_lexer": "ipython3",
   "version": "3.10.8"
  }
 },
 "nbformat": 4,
 "nbformat_minor": 5
}
