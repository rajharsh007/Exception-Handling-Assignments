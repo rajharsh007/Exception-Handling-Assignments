{
 "cells": [
  {
   "cell_type": "markdown",
   "id": "c503f5f9-7273-4723-8f68-d1065ea605cc",
   "metadata": {},
   "source": [
    "#### Q1. What is an Exception in python? Write the difference between Exceptions and syntax errors . "
   ]
  },
  {
   "cell_type": "markdown",
   "id": "12e8dfd7-e03b-452a-a82b-7cc11b151e16",
   "metadata": {},
   "source": [
    "#### Ans:- Exception in Python:\n",
    "An exception in Python is an event that occurs during the execution of a program that disrupts the normal flow of instructions. When an exceptional situation arises, Python raises an exception, which is a special type of object that represents the error or problem. Exceptions allow you to handle errors gracefully and provide a way to recover from unexpected situations.\n",
    "\n",
    "#### Differences between Exceptions and Syntax Errors:\n",
    "\n",
    "#### Nature of Occurrence:\n",
    "\n",
    "#### Syntax Error: These occur when you write code that violates the rules of Python's syntax. They are usually detected by the Python interpreter before the code is executed. Syntax errors prevent your code from running at all.\n",
    "#### Exception: These occur during the execution of your code. They might happen due to various reasons, such as invalid input, resource unavailability, or other runtime issues. Exceptions can occur even if your code is syntactically correct.\n",
    "#### Detection:\n",
    "#### Syntax Error: Detected by the Python interpreter before the code starts running. These errors prevent your program from entering the execution phase.\n",
    "#### Exception: Detected during the execution of the program when the problematic code is being executed. The program can be in a running state when an exception occurs.\n",
    "#### Handling:\n",
    "#### Syntax Error: These are typically fixed by correcting the syntax in your code before running it. They don't require explicit exception handling because the code won't run until the syntax is corrected.\n",
    "#### Exception: Exceptions should be handled using try and except blocks. This allows you to catch exceptions, take appropriate actions, and prevent your program from crashing.\n",
    "#### Examples:\n",
    "#### Syntax Error: Forgetting to close a parenthesis or using an undefined variable are examples of syntax errors.\n",
    "#### Exception: Examples of exceptions include trying to open a file that doesn't exist, dividing by zero, or accessing an index that is out of range in a list.\n",
    "#### In summary, syntax errors are mistakes in the structure of your code that prevent it from even starting to execute. Exceptions, on the other hand, are errors that occur during the execution of your program and can be caught and handled using exception handling mechanisms like try and except.\n",
    "\n",
    "\n",
    "\n",
    "\n",
    "\n"
   ]
  },
  {
   "cell_type": "markdown",
   "id": "0e97329c-df11-409b-bc1f-6cbc35a841c7",
   "metadata": {},
   "source": [
    "#### Q2. What happens when an exception is not handled? Explain with an example"
   ]
  },
  {
   "cell_type": "markdown",
   "id": "de7b2540-60f2-45c4-9a08-ccb0593a21d4",
   "metadata": {},
   "source": [
    "#### Ans:-| When an exception is not handled in a program, it leads to what's known as an \"unhandled exception.\" This situation can cause the program to terminate abruptly and display an error message, making it difficult for users to understand what went wrong. Let's illustrate this with an example:"
   ]
  },
  {
   "cell_type": "code",
   "execution_count": 2,
   "id": "81d3c537-fb3b-49f5-8408-403a434715b7",
   "metadata": {},
   "outputs": [
    {
     "name": "stdin",
     "output_type": "stream",
     "text": [
      "Enter a number:  10\n"
     ]
    },
    {
     "name": "stdout",
     "output_type": "stream",
     "text": [
      "Result: 1.0\n"
     ]
    }
   ],
   "source": [
    "try:\n",
    "    num = int(input(\"Enter a number: \"))\n",
    "    result = 10 / num\n",
    "    print(\"Result:\", result)\n",
    "except ValueError:\n",
    "    print(\"Invalid input. Please enter a valid number.\")\n"
   ]
  },
  {
   "cell_type": "markdown",
   "id": "64bb3f4a-fbf7-4d5b-9182-b49c3d1b36f4",
   "metadata": {},
   "source": [
    "#### Q3. Which Python statements are used to catch and handle exceptions? Explain with an example. "
   ]
  },
  {
   "cell_type": "markdown",
   "id": "326fe9bb-4421-4487-be3d-e61fbdc686db",
   "metadata": {},
   "source": [
    "#### Ans:- In Python, the statements used to catch and handle exceptions are try and except. The try block is used to enclose the code that might raise an exception, and the except block is used to specify the code that should be executed if a specific exception occurs. This allows you to gracefully handle errors and continue the program's execution even in the presence of exceptions."
   ]
  },
  {
   "cell_type": "code",
   "execution_count": 1,
   "id": "9aac531f-d4e0-4cf5-a834-d19e285c2b43",
   "metadata": {},
   "outputs": [
    {
     "name": "stdin",
     "output_type": "stream",
     "text": [
      "Enter a number:  23\n"
     ]
    },
    {
     "name": "stdout",
     "output_type": "stream",
     "text": [
      "Result: 0.43478260869565216\n"
     ]
    }
   ],
   "source": [
    "try:\n",
    "    num = int(input(\"Enter a number: \"))\n",
    "    result = 10 / num\n",
    "    print(\"Result:\", result)\n",
    "except ValueError:\n",
    "    print(\"Invalid input. Please enter a valid number.\")\n",
    "except ZeroDivisionError:\n",
    "    print(\"Cannot divide by zero. Please enter a non-zero number.\")\n"
   ]
  },
  {
   "cell_type": "markdown",
   "id": "ab2986f2-dcd5-42a4-8ddd-fa8a2f85d0a7",
   "metadata": {},
   "source": [
    "#### Q4. Explain with an example: \n",
    "#### a. try and else \n",
    "#### b. finall \n",
    "#### c. raise"
   ]
  },
  {
   "cell_type": "markdown",
   "id": "23afc18a-3ea0-4e04-9e17-4a69080540bb",
   "metadata": {},
   "source": [
    "#### Ans:- a. try, else:\n",
    "#### The try statement can be paired with an optional else block. Code within the else block will only run if no exceptions were raised in the corresponding try block. This can be useful for code that should only execute when the try block completes successfully."
   ]
  },
  {
   "cell_type": "code",
   "execution_count": 3,
   "id": "14525827-e4f0-4e90-9c4a-f14a1efa0a9e",
   "metadata": {},
   "outputs": [
    {
     "name": "stdin",
     "output_type": "stream",
     "text": [
      "Enter a number:  10\n"
     ]
    },
    {
     "name": "stdout",
     "output_type": "stream",
     "text": [
      "Division successful. Result: 1.0\n"
     ]
    }
   ],
   "source": [
    "try:\n",
    "    num = int(input(\"Enter a number: \"))\n",
    "    result = 10 / num\n",
    "except ValueError:\n",
    "    print(\"Invalid input. Please enter a valid number.\")\n",
    "except ZeroDivisionError:\n",
    "    print(\"Cannot divide by zero. Please enter a non-zero number.\")\n",
    "else:\n",
    "    print(\"Division successful. Result:\", result)\n"
   ]
  },
  {
   "cell_type": "markdown",
   "id": "379fbd0e-0a78-4bdf-884b-38d05cb4aca8",
   "metadata": {},
   "source": [
    "#### b. finally:\n",
    "\n",
    "#### The finally block is used to specify code that should be executed regardless of whether an exception was raised or not. This is often used for cleanup tasks like closing files or releasing resources, ensuring that certain actions are taken no matter what happens in the try block."
   ]
  },
  {
   "cell_type": "code",
   "execution_count": 4,
   "id": "536207c0-d1f9-4401-8c4c-91549ec78e40",
   "metadata": {},
   "outputs": [
    {
     "name": "stdout",
     "output_type": "stream",
     "text": [
      "File not found.\n"
     ]
    },
    {
     "ename": "NameError",
     "evalue": "name 'file' is not defined",
     "output_type": "error",
     "traceback": [
      "\u001b[0;31m---------------------------------------------------------------------------\u001b[0m",
      "\u001b[0;31mNameError\u001b[0m                                 Traceback (most recent call last)",
      "Cell \u001b[0;32mIn[4], line 9\u001b[0m\n\u001b[1;32m      7\u001b[0m     \u001b[38;5;28mprint\u001b[39m(\u001b[38;5;124m\"\u001b[39m\u001b[38;5;124mFile content:\u001b[39m\u001b[38;5;124m\"\u001b[39m, content)\n\u001b[1;32m      8\u001b[0m \u001b[38;5;28;01mfinally\u001b[39;00m:\n\u001b[0;32m----> 9\u001b[0m     \u001b[43mfile\u001b[49m\u001b[38;5;241m.\u001b[39mclose()\n\u001b[1;32m     10\u001b[0m     \u001b[38;5;28mprint\u001b[39m(\u001b[38;5;124m\"\u001b[39m\u001b[38;5;124mFile closed.\u001b[39m\u001b[38;5;124m\"\u001b[39m)\n",
      "\u001b[0;31mNameError\u001b[0m: name 'file' is not defined"
     ]
    }
   ],
   "source": [
    "try:\n",
    "    file = open(\"example.txt\", \"r\")\n",
    "    content = file.read()\n",
    "except FileNotFoundError:\n",
    "    print(\"File not found.\")\n",
    "else:\n",
    "    print(\"File content:\", content)\n",
    "finally:\n",
    "    file.close()\n",
    "    print(\"File closed.\")\n"
   ]
  },
  {
   "cell_type": "markdown",
   "id": "b9783e9a-a980-4f53-bc05-455f36684693",
   "metadata": {},
   "source": [
    "#### c. raise:\n",
    "\n",
    "#### The raise statement is used to explicitly raise exceptions in your code. This can be useful when you want to indicate that a certain condition has occurred that should be treated as an exception."
   ]
  },
  {
   "cell_type": "code",
   "execution_count": 5,
   "id": "4ad5937f-d763-48e5-be55-59dd3d304529",
   "metadata": {},
   "outputs": [
    {
     "name": "stdin",
     "output_type": "stream",
     "text": [
      "Enter your age:  23\n"
     ]
    },
    {
     "name": "stdout",
     "output_type": "stream",
     "text": [
      "Age is valid.\n"
     ]
    }
   ],
   "source": [
    "def validate_age(age):\n",
    "    if age < 0:\n",
    "        raise ValueError(\"Age cannot be negative.\")\n",
    "    elif age < 18:\n",
    "        raise ValueError(\"Age must be at least 18.\")\n",
    "    else:\n",
    "        print(\"Age is valid.\")\n",
    "\n",
    "try:\n",
    "    user_age = int(input(\"Enter your age: \"))\n",
    "    validate_age(user_age)\n",
    "except ValueError as ve:\n",
    "    print(\"Invalid age:\", ve)\n"
   ]
  },
  {
   "cell_type": "markdown",
   "id": "1341fe7d-2c58-4b87-a670-f52f6752c12c",
   "metadata": {},
   "source": [
    "#### Q5. What are Custom Exceptions in python? Why do we need Custom Exceptions? Explain with an example."
   ]
  },
  {
   "cell_type": "markdown",
   "id": "f300b9b0-c6f6-43d6-90c7-57f6db2a6cd3",
   "metadata": {},
   "source": [
    "#### Ans:- Custom exceptions, also known as user-defined exceptions, are exceptions that you create yourself in Python. These exceptions allow you to define specific error conditions that are relevant to your program or application. While Python provides a variety of built-in exception classes, sometimes it's beneficial to define your own exceptions to capture unique error situations in a more meaningful way.\n",
    "\n",
    "#### Custom exceptions provide several advantages:\n",
    "\n",
    "#### 1. Clarity: By creating custom exceptions, you can give your errors meaningful names that describe the issues specific to your application. This enhances code readability and makes it easier to understand what went wrong.\n",
    "\n",
    "#### 2. Modularity: Custom exceptions allow you to modularize error handling. You can raise these exceptions in different parts of your code and catch them at higher levels to handle errors appropriately.\n",
    "\n",
    "#### 3. Hierarchical Structure: You can create a hierarchy of custom exceptions by defining parent and child exceptions. This allows you to catch more general exceptions at a higher level and more specific exceptions at lower levels.\n",
    "\n",
    "#### 4. Maintenance: If your application grows or evolves, custom exceptions can help you maintain error handling more effectively, as changes to error conditions can be made in one place.\n",
    "\n",
    "#### Example of Custom Exception:"
   ]
  },
  {
   "cell_type": "code",
   "execution_count": 6,
   "id": "519f1cb2-ec54-4214-9e70-e7762b48a665",
   "metadata": {},
   "outputs": [
    {
     "name": "stdout",
     "output_type": "stream",
     "text": [
      "Error: Insufficient balance. Available: 100, Required: 170\n"
     ]
    }
   ],
   "source": [
    "class InsufficientBalanceError(Exception):\n",
    "    \"\"\"Custom exception for insufficient account balance.\"\"\"\n",
    "    def __init__(self, balance, required):\n",
    "        self.balance = balance\n",
    "        self.required = required\n",
    "        super().__init__(f\"Insufficient balance. Available: {balance}, Required: {required}\")\n",
    "\n",
    "def withdraw(amount, balance, threshold):\n",
    "    if balance - amount < threshold:\n",
    "        raise InsufficientBalanceError(balance, amount + threshold)\n",
    "    return balance - amount\n",
    "\n",
    "try:\n",
    "    account_balance = 100\n",
    "    withdrawal_amount = 120\n",
    "    min_balance_threshold = 50\n",
    "    new_balance = withdraw(withdrawal_amount, account_balance, min_balance_threshold)\n",
    "    print(\"Withdrawal successful. New balance:\", new_balance)\n",
    "except InsufficientBalanceError as ibe:\n",
    "    print(\"Error:\", ibe)\n"
   ]
  },
  {
   "cell_type": "markdown",
   "id": "d0e87e89-1ec5-45f0-b44a-632dfa0bb9a7",
   "metadata": {},
   "source": [
    "#### Q6. Create a custom exception class. Use this class to handle an exception."
   ]
  },
  {
   "cell_type": "code",
   "execution_count": null,
   "id": "669f46eb-8172-43b8-b71b-d92348063816",
   "metadata": {},
   "outputs": [],
   "source": [
    "# Ans:-\n",
    "     class MyCustomException(Exception):\n",
    "    \"\"\"Custom exception class.\"\"\"\n",
    "    def __init__(self, message):\n",
    "        self.message = message\n",
    "        super().__init__(self.message)\n",
    "\n",
    "def custom_function(value):\n",
    "    if value < 0:\n",
    "        raise MyCustomException(\"Value cannot be negative.\")\n",
    "\n",
    "try:\n",
    "    user_input = int(input(\"Enter a number: \"))\n",
    "    custom_function(user_input)\n",
    "    print(\"Value is:\", user_input)\n",
    "except MyCustomException as mce:\n",
    "    print(\"Custom Exception:\", mce)\n",
    "except ValueError:\n",
    "    print(\"Invalid input. Please enter a valid number.\")\n"
   ]
  }
 ],
 "metadata": {
  "kernelspec": {
   "display_name": "Python 3 (ipykernel)",
   "language": "python",
   "name": "python3"
  },
  "language_info": {
   "codemirror_mode": {
    "name": "ipython",
    "version": 3
   },
   "file_extension": ".py",
   "mimetype": "text/x-python",
   "name": "python",
   "nbconvert_exporter": "python",
   "pygments_lexer": "ipython3",
   "version": "3.10.8"
  }
 },
 "nbformat": 4,
 "nbformat_minor": 5
}
